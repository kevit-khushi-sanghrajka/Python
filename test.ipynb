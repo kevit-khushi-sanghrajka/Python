{
 "cells": [
  {
   "cell_type": "code",
   "execution_count": 1,
   "metadata": {},
   "outputs": [
    {
     "name": "stdout",
     "output_type": "stream",
     "text": [
      "Hello\n"
     ]
    }
   ],
   "source": [
    "print(\"Hello\")"
   ]
  },
  {
   "cell_type": "code",
   "execution_count": 2,
   "metadata": {},
   "outputs": [
    {
     "name": "stdout",
     "output_type": "stream",
     "text": [
      "7\n"
     ]
    }
   ],
   "source": [
    "p = 6\n",
    "print(p+1)"
   ]
  },
  {
   "cell_type": "code",
   "execution_count": 4,
   "metadata": {},
   "outputs": [
    {
     "name": "stdout",
     "output_type": "stream",
     "text": [
      "Before: None\n",
      "Loop: 300 300\n",
      "Loop: 41 41\n",
      "Loop: 12 12\n",
      "Loop: 9 9\n",
      "Loop: 74 9\n",
      "Loop: 15 9\n",
      "Smallest: 9\n"
     ]
    }
   ],
   "source": [
    "smallest = None\n",
    "print(\"Before:\", smallest)\n",
    "for itervar in [300, 41, 12, 9, 74, 15]:\n",
    "    if smallest is None or itervar < smallest:\n",
    "        smallest = itervar\n",
    "        \n",
    "    print(\"Loop:\", itervar, smallest)\n",
    "print(\"Smallest:\", smallest)"
   ]
  },
  {
   "cell_type": "code",
   "execution_count": 5,
   "metadata": {},
   "outputs": [],
   "source": [
    "import numpy as np"
   ]
  },
  {
   "cell_type": "code",
   "execution_count": 12,
   "metadata": {},
   "outputs": [
    {
     "name": "stdout",
     "output_type": "stream",
     "text": [
      "hello\n",
      "hElL000\n",
      "hElLO\n"
     ]
    }
   ],
   "source": [
    "str = 'hElLO'\n",
    "print(str.lower())\n",
    "print(str.replace('O', '000'))\n",
    "print(str)  #at last, str remains same\n"
   ]
  },
  {
   "cell_type": "code",
   "execution_count": 15,
   "metadata": {},
   "outputs": [
    {
     "name": "stdout",
     "output_type": "stream",
     "text": [
      "mango\n",
      "\n",
      "pineapple \n",
      "\n",
      "lime\n",
      "\n",
      "banana\n",
      "\n",
      "cherry\n",
      "\n"
     ]
    }
   ],
   "source": [
    "file = open('sample.txt', 'r')\n",
    "for x in file:\n",
    "    print(x)"
   ]
  },
  {
   "cell_type": "code",
   "execution_count": 18,
   "metadata": {},
   "outputs": [
    {
     "name": "stdout",
     "output_type": "stream",
     "text": [
      "Total words: 5\n"
     ]
    }
   ],
   "source": [
    "file = open('sample.txt', 'r')\n",
    "count = 0 \n",
    "for x in file:\n",
    "    count = count+1\n",
    "print(\"Total words:\", count)"
   ]
  },
  {
   "cell_type": "code",
   "execution_count": 12,
   "metadata": {},
   "outputs": [
    {
     "name": "stdout",
     "output_type": "stream",
     "text": [
      "['glenn', 'sally', 'jake']\n"
     ]
    },
    {
     "data": {
      "text/plain": [
       "3"
      ]
     },
     "execution_count": 12,
     "metadata": {},
     "output_type": "execute_result"
    }
   ],
   "source": [
    "listing = ['glenn', 'sally', 'john']\n",
    "listing[2] = 'jake'\n",
    "print(listing)\n",
    "len(listing)"
   ]
  },
  {
   "cell_type": "code",
   "execution_count": 13,
   "metadata": {},
   "outputs": [],
   "source": [
    "stuff = list()\n",
    "listing.extend(['cookie', 'tiger', 'advertise'])"
   ]
  },
  {
   "cell_type": "code",
   "execution_count": 14,
   "metadata": {},
   "outputs": [
    {
     "data": {
      "text/plain": [
       "['glenn', 'sally', 'jake', 'cookie', 'tiger', 'advertise']"
      ]
     },
     "execution_count": 14,
     "metadata": {},
     "output_type": "execute_result"
    }
   ],
   "source": [
    "listing"
   ]
  },
  {
   "cell_type": "code",
   "execution_count": 15,
   "metadata": {},
   "outputs": [
    {
     "data": {
      "text/plain": [
       "['glenn', 'sally', 'jake', 'cookie', 'tiger', 'advertise', ['aabc', 'gf']]"
      ]
     },
     "execution_count": 15,
     "metadata": {},
     "output_type": "execute_result"
    }
   ],
   "source": [
    "listing.append(['aabc', 'gf'])\n",
    "listing"
   ]
  },
  {
   "cell_type": "code",
   "execution_count": 17,
   "metadata": {},
   "outputs": [
    {
     "data": {
      "text/plain": [
       "['glenn',\n",
       " 'sally',\n",
       " 'jake',\n",
       " 'cookie',\n",
       " 'tiger',\n",
       " 'advertise',\n",
       " ['aabc', 'gf'],\n",
       " 'aabc',\n",
       " 'gf',\n",
       " 'mango',\n",
       " 'nfkda',\n",
       " 'aabc',\n",
       " 'gf',\n",
       " 'mango',\n",
       " 'nfkda']"
      ]
     },
     "execution_count": 17,
     "metadata": {},
     "output_type": "execute_result"
    }
   ],
   "source": [
    "listing.extend(['aabc', 'gf', 'mango', 'nfkda'])\n",
    "listing"
   ]
  },
  {
   "cell_type": "markdown",
   "metadata": {},
   "source": [
    "The following table will give you quick glance at the difference between the append() and extend()methods in Python.\n",
    "\n",
    "FEATURE\t                        APPEND()\t                            EXTEND()\n",
    "Argument type\t                Takes a single object\t                Takes an iterable (e.g., list, tuple, string)\n",
    "Nested lists\t                Adds nested list as a single element\tAdds elements of nested list separately\n",
    "No. of elements added\t        Adds one element at a time\t            Can add any number of elements at once\n",
    "Performance\t                    Faster for adding a single element\t    Faster for adding multiple elements at once"
   ]
  },
  {
   "cell_type": "code",
   "execution_count": 2,
   "metadata": {},
   "outputs": [],
   "source": [
    "import socket\n",
    "my_sock = socket.socket(socket.AF_INET, socket.SOCK_STREAM)\n",
    "my_sock.connect(('www.google.com', 80))"
   ]
  },
  {
   "cell_type": "code",
   "execution_count": 5,
   "metadata": {},
   "outputs": [
    {
     "name": "stdout",
     "output_type": "stream",
     "text": [
      "But soft what light through yonder window breaks\n",
      "It is the east and Juliet is the sun\n",
      "Arise fair sun and kill the envious moon\n",
      "Who is already sick and pale with grief\n"
     ]
    }
   ],
   "source": [
    "import urllib.request\n",
    "fhand = urllib.request.urlopen('http://data.pr4e.org/romeo.txt')\n",
    "for line in fhand:\n",
    "    print(line.decode().strip())"
   ]
  },
  {
   "cell_type": "code",
   "execution_count": 10,
   "metadata": {},
   "outputs": [],
   "source": [
    "from bs4 import BeautifulSoup\n",
    "import urllib.request, urllib.parse, urllib.error\n",
    "url = input('Enter - ')\n",
    "html = urllib.request.urlopen(url).read()\n",
    "soup = BeautifulSoup(html, 'html.parser')"
   ]
  }
 ],
 "metadata": {
  "kernelspec": {
   "display_name": "Python 3",
   "language": "python",
   "name": "python3"
  },
  "language_info": {
   "codemirror_mode": {
    "name": "ipython",
    "version": 3
   },
   "file_extension": ".py",
   "mimetype": "text/x-python",
   "name": "python",
   "nbconvert_exporter": "python",
   "pygments_lexer": "ipython3",
   "version": "3.10.12"
  },
  "orig_nbformat": 4
 },
 "nbformat": 4,
 "nbformat_minor": 2
}
