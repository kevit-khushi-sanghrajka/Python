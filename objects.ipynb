{
 "cells": [
  {
   "cell_type": "code",
   "execution_count": 18,
   "metadata": {},
   "outputs": [
    {
     "name": "stdout",
     "output_type": "stream",
     "text": [
      "X\n",
      "Electric\n"
     ]
    }
   ],
   "source": [
    "class Bike():\n",
    "    def __init__(self, name=\"\"):\n",
    "        self.name = name\n",
    "    def printer(self, type): #printer is non-static, called by an object, so pass 'self' parameter.\n",
    "        print(type)\n",
    "bike1= Bike(\"X\")\n",
    "print(bike1.name)\n",
    "bike1.printer('Electric') #You don't need to pass the instance itself as an argument \n",
    "                          #i.e. no need to write 'bike1.printer(bike1, 'electric')'; \n",
    "                          # Python handles that for you automatically.\n",
    "                          #bike1.printer('Electric') does: bike1 is passed automatically and caught by 'self', 'Electric' is passed and caught by type"
   ]
  },
  {
   "cell_type": "code",
   "execution_count": 19,
   "metadata": {},
   "outputs": [
    {
     "name": "stdout",
     "output_type": "stream",
     "text": [
      "X\n",
      "Electric\n"
     ]
    }
   ],
   "source": [
    "class Bike():\n",
    "    def __init__(self, name=\"\"):\n",
    "        self.name = name\n",
    "    def printer(type): #printer is static method, so need to call it by an object; hence no need to use 'self' parameter\n",
    "        print(type)\n",
    "bike1= Bike(\"X\")\n",
    "print(bike1.name)\n",
    "Bike.printer('Electric') #method not called by an object specifically"
   ]
  },
  {
   "cell_type": "markdown",
   "metadata": {},
   "source": [
    "REGEX"
   ]
  },
  {
   "cell_type": "code",
   "execution_count": 24,
   "metadata": {},
   "outputs": [],
   "source": [
    "import re"
   ]
  },
  {
   "cell_type": "code",
   "execution_count": 32,
   "metadata": {},
   "outputs": [
    {
     "name": "stdout",
     "output_type": "stream",
     "text": [
      "['This']\n"
     ]
    }
   ],
   "source": [
    "pattern = '^.*The.* Spain$'\n",
    "patt= \"\\AThis\"\n",
    "txt = \"This is weather report.The rain is very heavy in Spain\"\n",
    "x = re.findall(patt, txt)\n",
    "print(x)"
   ]
  },
  {
   "cell_type": "code",
   "execution_count": 38,
   "metadata": {},
   "outputs": [
    {
     "name": "stdout",
     "output_type": "stream",
     "text": [
      "Entered number is 919408242295\n",
      "Valid INDIAN number\n"
     ]
    }
   ],
   "source": [
    "pattern_m = re.compile(\"(91)?[7-9][0-9]{9}\")\n",
    "mob = input(\"Enter number:\")\n",
    "x = pattern_m.match(mob)\n",
    "if x:\n",
    "    print(f\"Entered number is {mob}\")\n",
    "    print(\"Valid INDIAN number\")\n",
    "else:\n",
    "    print(\"Invalid number\")    \n"
   ]
  },
  {
   "cell_type": "code",
   "execution_count": 39,
   "metadata": {},
   "outputs": [
    {
     "name": "stdout",
     "output_type": "stream",
     "text": [
      "['ai', 'ai']\n"
     ]
    }
   ],
   "source": [
    "str = \"The rain in Spain\"\n",
    "x = re.findall(\"ai\", str)\n",
    "print(x)"
   ]
  }
 ],
 "metadata": {
  "kernelspec": {
   "display_name": "Python 3",
   "language": "python",
   "name": "python3"
  },
  "language_info": {
   "codemirror_mode": {
    "name": "ipython",
    "version": 3
   },
   "file_extension": ".py",
   "mimetype": "text/x-python",
   "name": "python",
   "nbconvert_exporter": "python",
   "pygments_lexer": "ipython3",
   "version": "3.10.12"
  },
  "orig_nbformat": 4
 },
 "nbformat": 4,
 "nbformat_minor": 2
}
